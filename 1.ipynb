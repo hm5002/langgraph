{
 "cells": [
  {
   "cell_type": "code",
   "execution_count": 13,
   "metadata": {},
   "outputs": [],
   "source": [
    "from dotenv import load_dotenv\n",
    "load_dotenv()\n",
    "import os\n"
   ]
  },
  {
   "cell_type": "code",
   "execution_count": 17,
   "metadata": {},
   "outputs": [],
   "source": [
    "from typing import Annotated, TypedDict\n",
    "from langgraph.graph import StateGraph, START, END\n",
    "from langgraph.graph.message import add_messages\n",
    "# GraphState 요소는 상태를 전달하는 용도로 사용됩니다.\n",
    "class State(TypedDict):\n",
    "    goal: str  # 목표\n",
    "    todo: list[str]  # 할 일 목록\n",
    "    messages: Annotated[list, add_messages]\n"
   ]
  },
  {
   "cell_type": "code",
   "execution_count": 19,
   "metadata": {},
   "outputs": [],
   "source": [
    "# create tasks for each node\n",
    "def task_a():\n",
    "    pass\n",
    "\n",
    "def task_b():\n",
    "    pass\n",
    "\n",
    "def task_c():\n",
    "    pass\n",
    "\n",
    "def task_d():\n",
    "    pass\n"
   ]
  },
  {
   "cell_type": "code",
   "execution_count": 21,
   "metadata": {},
   "outputs": [
    {
     "data": {
      "image/jpeg": "[encoded data removed]",
      "text/plain": [
       "<IPython.core.display.Image object>"
      ]
     },
     "metadata": {},
     "output_type": "display_data"
    }
   ],
   "source": [
    "\n",
    "from langgraph.graph import START, END, StateGraph\n",
    "from langgraph.checkpoint.memory import MemorySaver\n",
    "\n",
    "\n",
    "# langgraph.graph에서 StateGraph와 END를 가져옵니다.\n",
    "workflow = StateGraph(State)\n",
    "\n",
    "# Todo 를 작성합니다.\n",
    "workflow.add_node(\"a\", task_a)  # 에이전트 노드를 추가합니다.\n",
    "\n",
    "# Todo 작업을 시작합니다.\n",
    "workflow.add_node(\"b\", task_b)\n",
    "\n",
    "# 작업을 진행합니다.\n",
    "workflow.add_node(\"c\", task_c)\n",
    "\n",
    "# 작업을 중간 체크합니다.\n",
    "workflow.add_node(\"d\", task_d)\n",
    "\n",
    "# 각 노드들을 연결합니다.\n",
    "workflow.add_edge(START, \"a\")\n",
    "workflow.add_edge(\"a\", \"b\")\n",
    "workflow.add_edge(\"a\", \"c\")\n",
    "workflow.add_edge(\"b\", \"d\")\n",
    "workflow.add_edge(\"c\", \"d\")\n",
    "workflow.add_edge(\"d\", \"b\")\n",
    "workflow.add_edge(\"d\", END)\n",
    "\n",
    "# 그래프를 컴파일합니다.\n",
    "app = workflow.compile()\n",
    "\n",
    "# Visualize the Graph\n",
    "\n",
    "from IPython.display import Image, display\n",
    "\n",
    "try:\n",
    "    display(\n",
    "        Image(app.get_graph(xray=True).draw_mermaid_png())\n",
    "    )  # 실행 가능한 객체의 그래프를 mermaid 형식의 PNG로 그려서 표시합니다. \n",
    "       # xray=True는 추가적인 세부 정보를 포함합니다.\n",
    "except:\n",
    "    # 이 부분은 추가적인 의존성이 필요하며 선택적으로 실행됩니다.\n",
    "    pass\n"
   ]
  }
 ],
 "metadata": {
  "kernelspec": {
   "display_name": "base",
   "language": "python",
   "name": "python3"
  },
  "language_info": {
   "codemirror_mode": {
    "name": "ipython",
    "version": 3
   },
   "file_extension": ".py",
   "mimetype": "text/x-python",
   "name": "python",
   "nbconvert_exporter": "python",
   "pygments_lexer": "ipython3",
   "version": "3.11.7"
  }
 },
 "nbformat": 4,
 "nbformat_minor": 2
}
